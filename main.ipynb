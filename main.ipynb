{
 "cells": [
  {
   "cell_type": "code",
   "execution_count": null,
   "metadata": {},
   "outputs": [],
   "source": [
    "# deep learning with PyTorch: Neural Style Transfer\n",
    "# set Google Colab runtime\n",
    "\n",
    "# !pip install torch torchvision\n",
    "# !git clone https://github.com/parth1620/Project-NST.git\n",
    "\n",
    "# loading VSG-19 pretrained model using model subpackage in PyTorch\n",
    "import torch\n",
    "from torchvision import models\n",
    "\n",
    "vgg = models.vgg19(pretrained = True)\n",
    "\n",
    "# prints features and classifiers and their layers\n",
    "# for this project, we don't use the classifiers, as we extract the content and style from the layers in the features\n",
    "print(vgg)\n",
    "\n",
    "vgg = vgg.features\n",
    "# see only the features component\n",
    "print(vgg)\n",
    "\n",
    "# parse the gradient, use the pretrained weight without updating it\n",
    "# freeze the model so no gradient computation occurs in the training loop\n",
    "for parameters in vgg.parameters():\n",
    "  parameters.requires_grad_(False)\n",
    "\n",
    "# check and move variables and model to GPU if available, otherwise to CPU\n",
    "device = torch.device(\"cuda\" if torch.cuda.is_available() else \"cpu\")\n",
    "# print to check what device was set to\n",
    "print(device)\n",
    "vgg.to(device)\n"
   ]
  }
 ],
 "metadata": {
  "language_info": {
   "name": "python"
  },
  "orig_nbformat": 4
 },
 "nbformat": 4,
 "nbformat_minor": 2
}
